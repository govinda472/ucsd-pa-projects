{
 "cells": [
  {
   "cell_type": "markdown",
   "metadata": {},
   "source": [
    "# COGS 118A - Assignment 1: KNN"
   ]
  },
  {
   "cell_type": "markdown",
   "metadata": {},
   "source": [
    "\n",
    "\n",
    "The goal of this assignment is to be able to use Python to build a KNN model that is suitable for a given classification task. "
   ]
  },
  {
   "cell_type": "markdown",
   "metadata": {},
   "source": [
    "#### Part 1.  \n",
    "Build a KNN to do handwritten digits prediction. The data consists of grey scale images of handwritten digits. Each image is a set of pixels stored as a vector. "
   ]
  },
  {
   "cell_type": "code",
   "execution_count": 24,
   "metadata": {},
   "outputs": [],
   "source": [
    "\n",
    "from sklearn.datasets import load_digits, load_wine\n",
    "import numpy as np\n",
    "import matplotlib.pyplot as plt\n",
    "import pandas as pd\n",
    "import numpy as np\n",
    "import sklearn.datasets\n",
    "import numpy as np\n",
    "import pandas as pd\n",
    "from sklearn.model_selection import train_test_split\n",
    "from sklearn.metrics import  accuracy_score\n",
    "import matplotlib.pyplot as plt\n",
    "from sklearn.model_selection import KFold\n",
    "%matplotlib inline"
   ]
  },
  {
   "cell_type": "markdown",
   "metadata": {},
   "source": [
    "Load the MNIST dataset. (Can take up to 3 minutes.) `x` stores the images and `y` stores the labels. For an image i, $x_{i}$ is a vector of its pixel values, and $y_{i}$ is its label. $y_{i} \\in [1,2,3,4,5,6,7,8,9,0] $ ."
   ]
  },
  {
   "cell_type": "code",
   "execution_count": 26,
   "metadata": {},
   "outputs": [
    {
     "name": "stderr",
     "output_type": "stream",
     "text": [
      "C:\\Users\\govinda\\AppData\\Local\\Packages\\PythonSoftwareFoundation.Python.3.11_qbz5n2kfra8p0\\LocalCache\\local-packages\\Python311\\site-packages\\sklearn\\datasets\\_openml.py:1002: FutureWarning: The default value of `parser` will change from `'liac-arff'` to `'auto'` in 1.4. You can set `parser='auto'` to silence this warning. Therefore, an `ImportError` will be raised from 1.4 if the dataset is dense and pandas is not installed. Note that the pandas parser may return different data types. See the Notes Section in fetch_openml's API doc for details.\n",
      "  warn(\n"
     ]
    }
   ],
   "source": [
    "\n",
    "mnist = sklearn.datasets.fetch_openml('mnist_784')\n",
    "x = mnist.data.to_numpy(dtype= np.int64)\n",
    "y = mnist.target.to_numpy(dtype= np.int64)"
   ]
  },
  {
   "cell_type": "markdown",
   "metadata": {},
   "source": [
    "Separate training and testing data randomly."
   ]
  },
  {
   "cell_type": "code",
   "execution_count": 27,
   "metadata": {},
   "outputs": [
    {
     "name": "stdout",
     "output_type": "stream",
     "text": [
      "(2000, 784)\n",
      "(500, 784)\n",
      "(2000,)\n",
      "(500,)\n"
     ]
    }
   ],
   "source": [
    "X_train, X_test, Y_train, Y_test = train_test_split(\n",
    "    x[:2500], y[:2500], test_size=0.2, random_state=123, stratify=y[:2500])\n",
    "print(X_train.shape)\n",
    "print(X_test.shape)\n",
    "print(Y_train.shape)\n",
    "print(Y_test.shape)"
   ]
  },
  {
   "cell_type": "markdown",
   "metadata": {},
   "source": [
    "#### 1.1 (5 points)\n",
    "\n",
    "For convinence, we have create a class object `knn` for storing our KNN model. Please fill in the missing instance methods. \n",
    "\n",
    "Instance method `fit` is the training process. For KNN it is simply storing the training dataset.\n",
    "\n",
    "Instance method `distance` is a function that takes in two vectors (samples of data) and returns the distance between the two vectors. (1.5 points)\n",
    "\n",
    "Hint: Try your best to avoid using for loops in `self.distance`. Or it would take too long for KNN to compute. \n",
    "\n",
    "Instance method `predict` uses KNN method to predict a given set of digit images. If the input is a N by d dimensional matrix, where d is the number of features and N is the number of samples, the output should be an N dimensional vector. (3 points)\n",
    "\n",
    "Hint: Here are some useful numpy functions to help you achieve your goal: np.square, np.sqrt, np.zeros, np.ones, np.argsort, np.bincount, np.linalg.norm, np.dot, np.equal,np.mean, np.argmax \n",
    "\n",
    "Instance method `score` produces the accuracy of the KNN model when running on a test dataset. Accuracy is the precentage of the test data that is correctly classified. (Hint: you will first need to call `self.predict` to label the input test data.) (0.5 points)\n"
   ]
  },
  {
   "cell_type": "code",
   "execution_count": 28,
   "metadata": {},
   "outputs": [],
   "source": [
    "\n",
    "class knn:\n",
    "\tdef __init__(self, k):\n",
    "\t\tself.k = k\n",
    "\t\tself.X_train = None\n",
    "\t\tself.Y_train = None\n",
    "\n",
    "\tdef fit(self, X, Y):\n",
    "\t\tself.X_train = X\n",
    "\t\tself.Y_train = Y\n",
    "\n",
    "\tdef distance(self, x1, x2):\n",
    "\t\treturn np.linalg.norm(x1-x2)\n",
    "\t\t# returns the distance between two vectors\n",
    "\t\t# the distance is the L2 norm\n",
    "\t\t# your solution here  \n",
    "\t\t#problem 1.1 , 1.5 points\n",
    "        \n",
    "\t\tpass\n",
    "\t\n",
    "\tdef predict(self, x_test):\n",
    "\t\t# returns the predictions for multiple examples X\n",
    "\t\t# your solution here\n",
    "\t\t#problem 1.2 , 3 points\n",
    "\t\tdistances = np.sqrt(((self.X_train - x_test[:, np.newaxis]) ** 2).sum(axis=2))\n",
    "\t\tk_nearest_neighbors = np.argpartition(distances, self.k, axis=1)[:, :self.k]\n",
    "\t\tk_nearest_labels = self.Y_train[k_nearest_neighbors]\n",
    "\t\treturn np.array([np.argmax(np.bincount(labels)) for labels in k_nearest_labels])\n",
    "\t\tpass\n",
    "\t\t\n",
    "\t\t\n",
    "\tdef score(self, x_test, y_test):\n",
    "\t\t# returns the accuracy of the model\n",
    "\t\t# Return the accuracy of your model on the test data.\n",
    "\t\t# problem 1.3, 0.5 point\n",
    "\t\tY_pred = self.predict(x_test)\n",
    "\t\treturn np.sum(Y_pred == y_test)/len(y_test)\n",
    "\t\tpass\n",
    "\t\t"
   ]
  },
  {
   "cell_type": "markdown",
   "metadata": {},
   "source": [
    "Compare the accuracy using our KNN model with the accuracy using Sklearn KNN to see if we have implemented correctly. The two accuracy scores should be fairly close."
   ]
  },
  {
   "cell_type": "code",
   "execution_count": 7,
   "metadata": {},
   "outputs": [
    {
     "name": "stdout",
     "output_type": "stream",
     "text": [
      "sklearn_knn_score: 0.912\n",
      "our_knn_score: 0.912\n"
     ]
    }
   ],
   "source": [
    "from sklearn.neighbors import KNeighborsClassifier\n",
    "sklearn_knn = KNeighborsClassifier(n_neighbors = 5)\n",
    "sklearn_knn.fit(X_train, Y_train)\n",
    "sklearn_knn_score = sklearn_knn.score(X_test, Y_test)\n",
    "print(\"sklearn_knn_score:\", sklearn_knn_score)\n",
    "\n",
    "our_knn = knn(k = 5)\n",
    "our_knn.fit(X_train, Y_train)\n",
    "our_knn_score = our_knn.score(X_test, Y_test)\n",
    "print(\"our_knn_score:\", our_knn_score)\n"
   ]
  },
  {
   "cell_type": "markdown",
   "metadata": {},
   "source": [
    "Let's visualize the images that are being misclassifed and compare that to the ones that are correctly classifed. This will help us to see the potential problems of our model. "
   ]
  },
  {
   "cell_type": "code",
   "execution_count": 8,
   "metadata": {},
   "outputs": [],
   "source": [
    "Y_pred = our_knn.predict(X_test)\n",
    "\n",
    "incorrect = [i for i, x in enumerate(Y_pred!=Y_test) if x]\n",
    "correct = [i for i, x in enumerate(Y_pred==Y_test) if x]"
   ]
  },
  {
   "cell_type": "code",
   "execution_count": 9,
   "metadata": {},
   "outputs": [
    {
     "data": {
      "image/png": "[encoded data removed]",
      "text/plain": [
       "<Figure size 2000x2000 with 8 Axes>"
      ]
     },
     "metadata": {},
     "output_type": "display_data"
    }
   ],
   "source": [
    "NUM_OF_IMAGES = 8 # number of images to display\n",
    "_, axes = plt.subplots(nrows=1, ncols=NUM_OF_IMAGES, figsize=(20, 20))\n",
    "START = 0 # start index of the images to display\n",
    "for ax, ind in zip(axes, list(range(START,START+NUM_OF_IMAGES))):\n",
    "    ax.set_axis_off()\n",
    "    image = X_test[incorrect[ind]].reshape(28, 28)\n",
    "    ax.imshow(image, cmap=plt.cm.gray_r, interpolation=\"nearest\")\n",
    "    ax.set_title(f\"Prediction: {Y_pred[incorrect[ind]]}\")\n"
   ]
  },
  {
   "cell_type": "code",
   "execution_count": 10,
   "metadata": {},
   "outputs": [
    {
     "data": {
      "image/png": "[encoded data removed]",
      "text/plain": [
       "<Figure size 2000x2000 with 8 Axes>"
      ]
     },
     "metadata": {},
     "output_type": "display_data"
    }
   ],
   "source": [
    "\n",
    "_, axes = plt.subplots(nrows=1, ncols=NUM_OF_IMAGES, figsize=(20, 20))\n",
    "START = 120 # start index of the images to display\n",
    "for ax, ind in zip(axes, list(range(START,START+NUM_OF_IMAGES))):\n",
    "    ax.set_axis_off()\n",
    "    image = X_test[correct[ind]].reshape(28, 28)\n",
    "    ax.imshow(image, cmap=plt.cm.gray_r, interpolation=\"nearest\")\n",
    "    ax.set_title(f\"Prediction: {Y_pred[correct[ind]]}\")"
   ]
  },
  {
   "cell_type": "markdown",
   "metadata": {},
   "source": [
    "#### 1.2 (4 points)\n",
    "\n",
    "\n",
    "Test the training and test accuracy using any sets of k values ($k \\in \\mathbb{Z}^{+}$)  and plot the results with the x axis as the values of the k you picked and the y axis as the accuracies. \n",
    "You can plot it on two seperate graphs or on the same one. Make sure clearly label which one is for the training accuracy and which one is for the test accuracy. The type of graph you choose has to clearly indicate the trend you observe.\n",
    "\n",
    "Good time to grab a coffee if it takes too long to run. \n",
    "\n",
    "NOTE: Use the KNN model you built for this task.\n",
    "\n",
    "\n",
    "Plots (2 point)\n",
    "\n",
    "**Answer the below questions**\n",
    "\n",
    "What is the trend of your plot?         (1 point) <br/>\n",
    "Answer: training accuracy significantly decreases and there is a slight drop testing accuracy as k increases\n",
    "\n",
    "What k produces the optimal results?    (1 point)<br/>\n",
    "Answer: k= 3 or 7 produces the highest testing accuracy \n"
   ]
  },
  {
   "cell_type": "code",
   "execution_count": 12,
   "metadata": {},
   "outputs": [
    {
     "data": {
      "image/png": "[encoded data removed]",
      "text/plain": [
       "<Figure size 1000x600 with 1 Axes>"
      ]
     },
     "metadata": {},
     "output_type": "display_data"
    }
   ],
   "source": [
    "# Code for plots (2 points as mentioned above)\n",
    "k_values = range(1, 30)\n",
    "train_accuracies = []\n",
    "test_accuracies = []\n",
    "\n",
    "for k in k_values:\n",
    "    model = knn(k)\n",
    "    model.fit(X_train, Y_train)\n",
    "    \n",
    "    train_accuracy = model.score(X_train, Y_train)\n",
    "    test_accuracy = model.score(X_test, Y_test)\n",
    "    \n",
    "    train_accuracies.append(train_accuracy)\n",
    "    test_accuracies.append(test_accuracy)\n",
    "\n",
    "# Plotting the accuracies\n",
    "plt.figure(figsize=(10, 6))\n",
    "plt.plot(k_values, train_accuracies, label='Training accuracy')\n",
    "plt.plot(k_values, test_accuracies, label='Testing accuracy')\n",
    "plt.legend()\n",
    "plt.xlabel('k (number of neighbors)')\n",
    "plt.ylabel('Accuracy')\n",
    "plt.title('Training and Testing Accuracy for Different k-values')\n",
    "plt.show()"
   ]
  },
  {
   "cell_type": "markdown",
   "metadata": {},
   "source": [
    "#### 1.3 (5 points)\n",
    "\n",
    "Choose one other distance function from below or create your own distance function. Here is a list of distance functions that you could try.      \n",
    "\n",
    "1. Manhattan Distance \n",
    "2. Cosine Distance \n",
    "3. L-Infinity norm \n"
   ]
  },
  {
   "cell_type": "code",
   "execution_count": null,
   "metadata": {},
   "outputs": [],
   "source": [
    "# Write the Python implementation here (1.5 points)\n",
    "def distance(self, x1, x2):\n",
    "    return np.sum(np.abs(x1-x2))"
   ]
  },
  {
   "cell_type": "markdown",
   "metadata": {},
   "source": [
    "\n",
    "**Write answers to the below questions**\n",
    "\n",
    "What is your distance function? Write down the distance equation. (0.5 point)<br/>\n",
    "Answer:\n",
    " taking the sum of distances between the x and y coordinates.\n",
    " Manhattan Distance(x, y) = Σ |x - y|\n",
    "\n",
    "Describe issues with using the L2 norm: (2 points)<br/>\n",
    "Answer:\n",
    "The L2 norm is the square root of the sum of the square of differences. squaring the differences amplifies the effect of large differences,which can cause big outliers.\n",
    "\n",
    "What do you think is the reason your distance function performs better, worse, or similar than L2 norm? (1 points)<br/>\n",
    "Answer:\n",
    "The performance of the Manhattan distance compared to the L2 norm varies with data. If the data contains outliers, the Manhattan distance will perform better since it is less sensitive to large differences. However, if the geometry of the data is such that the diagonal distance is important, the L2 norm might perform better. \n",
    "\n"
   ]
  },
  {
   "cell_type": "markdown",
   "metadata": {},
   "source": [
    "\n",
    "### Problem 2\n",
    "\n",
    "In this problem , we will be using the wine classfication dataset. Before opimizing our KNN model, it is imperative to understand the properties of our dataset.\n",
    "\n",
    "More information about the dataset is linked below:\n",
    "\n",
    "https://archive.ics.uci.edu/ml/datasets/wine"
   ]
  },
  {
   "cell_type": "code",
   "execution_count": 13,
   "metadata": {},
   "outputs": [
    {
     "name": "stdout",
     "output_type": "stream",
     "text": [
      "(178, 13)\n",
      "(178,)\n",
      "feature names: ['alcohol', 'malic_acid', 'ash', 'alcalinity_of_ash', 'magnesium', 'total_phenols', 'flavanoids', 'nonflavanoid_phenols', 'proanthocyanins', 'color_intensity', 'hue', 'od280/od315_of_diluted_wines', 'proline']\n",
      "target names: ['class_0' 'class_1' 'class_2']\n"
     ]
    }
   ],
   "source": [
    "wine = load_wine()\n",
    "X = wine.data\n",
    "print(X.shape)\n",
    "Y = wine.target\n",
    "print(Y.shape)\n",
    "print(\"feature names:\", wine.feature_names)\n",
    "print(\"target names:\", wine.target_names)"
   ]
  },
  {
   "cell_type": "markdown",
   "metadata": {},
   "source": [
    "#### 2.1  (3 points)\n",
    "\n",
    "Now, let’s classify the wine dataset using the L2 norm. Choose the optimal k value for this task and describe your approach.\n",
    "\n",
    "You might need to change the k value a couple of times to find the one with the highest average test accuracy. Feel free to add a for loop. You are free to modify the cell however you want. \n",
    "\n",
    "Since we have limited data, we can use K-folds to assess the performance of our model more accurately. \n",
    "\n",
    "The accuracy for each test is stored in a list so we can take the average of the accuracy scores. \n",
    "\n",
    "NOTE: Use the KNN model you built for this task.\n"
   ]
  },
  {
   "cell_type": "code",
   "execution_count": 18,
   "metadata": {},
   "outputs": [
    {
     "name": "stdout",
     "output_type": "stream",
     "text": [
      "Optimal k-value: 7\n"
     ]
    }
   ],
   "source": [
    "\n",
    "kf = KFold(n_splits=5, shuffle=True, random_state=123)\n",
    "\n",
    "# Write down your approach in Python to finding the optimal k value below\n",
    "# Create a list to store the average accuracy for each k\n",
    "avg_scores = []\n",
    "\n",
    "k_values = list(range(1, 31))\n",
    "for k in k_values:\n",
    "    model = knn(k)\n",
    "    scores = []\n",
    "    for train_index, test_index in kf.split(X):\n",
    "        X_train, X_test = X[train_index], X[test_index]\n",
    "        Y_train, Y_test = Y[train_index], Y[test_index]\n",
    "        model.fit(X_train, Y_train)\n",
    "        scores.append(model.score(X_test, Y_test))\n",
    "    avg_scores.append(np.mean(scores))\n",
    "\n",
    "optimal_k = k_values[np.argmax(avg_scores)]\n",
    "\n",
    "print(f\"Optimal k-value: {optimal_k}\")\n"
   ]
  },
  {
   "cell_type": "markdown",
   "metadata": {},
   "source": [
    "\n",
    "#### 2.2 (4 points)\n",
    "Again, we would like to change our distance function to best fit our classification problem. Choose a distance function from what we have listed. It can be the same one from problem 1.3 . Set k equal to the optimal k you have found.\n",
    "\n",
    "\n",
    "(It is okay if the new distance function performs worse than using the L2 norm. You just need to write the new distance function and apply KNN to the dataset. )"
   ]
  },
  {
   "cell_type": "code",
   "execution_count": 21,
   "metadata": {},
   "outputs": [
    {
     "name": "stdout",
     "output_type": "stream",
     "text": [
      "Best average accuracy: 0.7306349206349206\n"
     ]
    }
   ],
   "source": [
    "# Python implementation (1.5 points)\n",
    "# Manhattan distance\n",
    "\n",
    "def distance(self, x1, x2):\n",
    "        return np.sum(np.abs(x1 - x2)) \n",
    "avg_scores = []\n",
    "\n",
    "for k in k_values:\n",
    "    model = knn(k)\n",
    "    scores = []\n",
    "    for train_index, test_index in kf.split(X):\n",
    "        X_train, X_test = X[train_index], X[test_index]\n",
    "        Y_train, Y_test = Y[train_index], Y[test_index]\n",
    "        model.fit(X_train, Y_train)\n",
    "        scores.append(model.score(X_test, Y_test))\n",
    "    avg_scores.append(np.mean(scores))\n",
    "\n",
    "print(f\"Best average accuracy: {max(avg_scores)}\")"
   ]
  },
  {
   "cell_type": "markdown",
   "metadata": {},
   "source": [
    "\n",
    "\n",
    "**Write answers to the below questions**\n",
    "\n",
    "What is your distance function? Write down the distance equation. (0.5 point)<br/>\n",
    "Answer: taking the sum of distances between the x and y coordinates.\n",
    " Manhattan Distance(x, y) = Σ |x - y|\n",
    "\n",
    "\n",
    "What do you think is the reason your distance function performs better or worse than the L2 norm? (2 points)<br/>\n",
    "Answer:\n",
    "The performance of the Manhattan distance compared to the L2 norm varies with data. If the data contains outliers, the Manhattan distance will perform better since it is less sensitive to large differences. However, if the geometry of the data is such that the diagonal distance is important, the L2 norm might perform better. \n",
    "for this instance, I think manhattan distance might be a better since the factors aren't interrelated to each other"
   ]
  },
  {
   "cell_type": "markdown",
   "metadata": {},
   "source": [
    "#### 2.3 (3 points)\n",
    "\n",
    "We can further improve the accuracy of our model by normalizing the dataset.  \n",
    "\n",
    "Data can be normalized using the following equation:\n",
    "\n",
    "$$ x_{ij}^{normalized} = \\frac{x_{ij} -\\mu_{j}}{\\sigma_{j}} $$\n",
    "Where $x_{ij}$ is the value of feature j of sample i, \n",
    "\n",
    "$\\mu_{j} $ and $\\sigma_{j}$ are the mean and the standard deviation of feature j.\n",
    "\n",
    "Normalize the wine dataset and apply your KNN model (with your favorite k value and distance function) on the normalized dataset. \n",
    "\n",
    "Print the new average accuracy score. "
   ]
  },
  {
   "cell_type": "code",
   "execution_count": 23,
   "metadata": {},
   "outputs": [
    {
     "name": "stdout",
     "output_type": "stream",
     "text": [
      "New average accuracy  0.9603174603174605\n"
     ]
    }
   ],
   "source": [
    "# YOUR CODE HERE:\n",
    "# Normalizing the dataset\n",
    "X_normalized = (X - np.mean(X, axis=0)) / np.std(X, axis=0)\n",
    "my_knn = knn(k = 7)\n",
    "avg_scores_normalized = []\n",
    "for train_index, test_index in kf.split(X_normalized):\n",
    "    X_train, X_test = X_normalized[train_index], X_normalized[test_index]\n",
    "    Y_train, Y_test = Y[train_index], Y[test_index]\n",
    "    my_knn.fit(X_train, Y_train)\n",
    "    score = my_knn.score(X_test, Y_test)\n",
    "    avg_scores_normalized.append(score)\n",
    "\n",
    "new_avg_score_normalized = np.mean(avg_scores_normalized)\n",
    "print(\"New average accuracy \", new_avg_score_normalized)"
   ]
  },
  {
   "cell_type": "markdown",
   "metadata": {},
   "source": [
    "### 2.4 (1 Point)\n",
    "Why do you think normalization can make a large improvement to our classification accuracy? \n",
    "normalization scales all features to the same range, which removes biases distance discrepancies. Since different features can have drastically different scales."
   ]
  },
  {
   "cell_type": "markdown",
   "metadata": {},
   "source": []
  }
 ],
 "metadata": {
  "kernelspec": {
   "display_name": "Python 3 (ipykernel)",
   "language": "python",
   "name": "python3"
  },
  "language_info": {
   "codemirror_mode": {
    "name": "ipython",
    "version": 3
   },
   "file_extension": ".py",
   "mimetype": "text/x-python",
   "name": "python",
   "nbconvert_exporter": "python",
   "pygments_lexer": "ipython3",
   "version": "3.11.4"
  },
  "vscode": {
   "interpreter": {
    "hash": "7b63700a7479ca494b09cb94f65ff43e6df18b3e5067a4f3d4ae63f32d2fcb1e"
   }
  }
 },
 "nbformat": 4,
 "nbformat_minor": 4
}
