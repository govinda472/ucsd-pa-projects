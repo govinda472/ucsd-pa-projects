{
 "cells": [
  {
   "cell_type": "markdown",
   "metadata": {},
   "source": [
    "## HW-2 • Math 189 • Sp 2024\n",
    "### Due Date: Fri, Apr 26\n",
    "\n",
    "> NAME: $\\color{red}{\\text{    <Insert Your Name Here>     }}$\n",
    "> \n",
    "> PID: $\\color{red}{\\text{    <Insert Your ID Here>     }}$\n",
    ">\n",
    "> "
   ]
  },
  {
   "cell_type": "markdown",
   "metadata": {},
   "source": [
    "---\n",
    "\n",
    "## Instructions\n",
    "* Submit your solutions online on Gradescope\n",
    "* Look at the detailed instructions [here](https://canvas.ucsd.edu/courses/55191/pages/expectations)\n",
    "\n",
    "\n",
    "I certify that the following write-up is my own work, and have abided by the UCSD Academic Integrity Guidelines.\n",
    "\n",
    "- [x] Yes\n",
    "- [ ] No\n",
    "\n",
    "---"
   ]
  },
  {
   "cell_type": "code",
   "execution_count": 6,
   "metadata": {},
   "outputs": [],
   "source": [
    "import numpy as np\n",
    "import scipy\n",
    "from scipy import stats as stats\n",
    "\n",
    "import statsmodels\n",
    "import statsmodels.api as sm"
   ]
  },
  {
   "cell_type": "markdown",
   "metadata": {},
   "source": [
    "# Question 1"
   ]
  },
  {
   "cell_type": "markdown",
   "metadata": {},
   "source": [
    "For this question we'll examine the Welch-Satterthwaite approximation for the degrees of freedom in the two-sample t-test, via a simulation study.\n",
    "\n",
    "<br></br>"
   ]
  },
  {
   "cell_type": "markdown",
   "metadata": {},
   "source": [
    "> a. Choose the unknown ground truth population parameters of your choice for $\\mu_X$, $\\mu_Y$, $\\sigma_X$, and $\\sigma_Y$."
   ]
  },
  {
   "cell_type": "code",
   "execution_count": 8,
   "metadata": {},
   "outputs": [],
   "source": [
    "mu_x = 110\n",
    "mu_y = 120\n",
    "\n",
    "sigma_x = 10\n",
    "sigma_y = 25"
   ]
  },
  {
   "cell_type": "markdown",
   "metadata": {},
   "source": [
    "---"
   ]
  },
  {
   "cell_type": "markdown",
   "metadata": {},
   "source": [
    "> b. write a function, `generate_data(n, m)`, which outputs two samples $X_1, X_2, \\dots, X_n$ and $Y_1, Y_2, \\dots, Y_m \\sim N(\\mu_Y, \\sigma_Y^2)$ of size $n$ and $m$ using the parameters you chose in part a. Print the output from one such function call of `generate_data(n=5, m=6)` for $n=5$ and $m=6$."
   ]
  },
  {
   "cell_type": "code",
   "execution_count": 14,
   "metadata": {},
   "outputs": [
    {
     "name": "stdout",
     "output_type": "stream",
     "text": [
      "(array([121.55769649, 111.25708166, 106.8942453 , 115.30973331,\n",
      "       106.23971318]), array([162.54686839,  78.84148737, 123.116987  , 119.36045879,\n",
      "       122.53758724,  95.84974229]))\n"
     ]
    }
   ],
   "source": [
    "... # write your function here\n",
    "#> b. write a function, `generate_data(n, m)`, which outputs two samples $X_1, X_2, \\dots, X_n$ and $Y_1, Y_2, \\dots, Y_m \\sim N(\\mu_Y, \\sigma_Y^2)$ of size $n$ and $m$ using the parameters you chose in part a. Print the output from one such function call of `generate_data(n=5, m=6)` for $n=5$ and $m=6$.\n",
    "def generate_data(n, m):\n",
    "    X = np.random.normal(mu_x, sigma_x, n)\n",
    "    Y = np.random.normal(mu_y, sigma_y, m)\n",
    "    return X, Y\n",
    "\n",
    "\n",
    "test_data = generate_data(n=5, m=6)\n",
    "print(test_data)"
   ]
  },
  {
   "cell_type": "markdown",
   "metadata": {},
   "source": [
    "---"
   ]
  },
  {
   "cell_type": "markdown",
   "metadata": {},
   "source": [
    "> c. Write a function, `confint_simple(data, alpha)` which takes in the `data` of the two samples $X_1, \\cdots, X_n$ and $Y_1, \\cdots, Y_m$  from the output of `generate_data(n, m)`  along with a confidence level `alpha` between $0$ and $1$ and returns the $100 \\times (1-\\alpha)\\%$ confidence interval $\\textup{CI}(\\alpha, \\mu_X-\\mu_Y)$ for the difference in means of the two samples using the student's t-distribution with $k = \\min\\{n-1, m-1\\}$ degrees of freedom.  Print the output from one such function call of `confint_simple(test_data, alpha=0.05)`."
   ]
  },
  {
   "cell_type": "code",
   "execution_count": 15,
   "metadata": {},
   "outputs": [
    {
     "name": "stdout",
     "output_type": "stream",
     "text": [
      "(np.float64(-45.66745017341811), np.float64(36.08646112358236))\n"
     ]
    }
   ],
   "source": [
    "... # write your function here\n",
    "#> c. Write a function, `confint_simple(data, alpha)` which takes in the `data` of the two samples $X_1, \\cdots, X_n$ and $Y_1, \\cdots, Y_m$  from the output of `generate_data(n, m)`  along with a confidence level `alpha` between $0$ and $1$ and returns the $100 \\times (1-\\alpha)\\%$ confidence interval $\\textup{CI}(\\alpha, \\mu_X-\\mu_Y)$ for the difference in means of the two samples using the student's t-distribution with $k = \\min\\{n-1, m-1\\}$ degrees of freedom.  Print the output from one such function call of `confint_simple(test_data, alpha=0.05)`.\n",
    "def confint_simple(data, alpha):\n",
    "    X, Y = data\n",
    "    n = len(X)\n",
    "    m = len(Y)\n",
    "    k = min(n-1, m-1)\n",
    "    t = stats.t.ppf(1-alpha/2, k)\n",
    "    diff = np.mean(X) - np.mean(Y)\n",
    "    se = np.sqrt(np.var(X)/n + np.var(Y)/m)\n",
    "    return diff - t*se, diff + t*se\n",
    "interval_simple = confint_simple(test_data, alpha=0.02)\n",
    "print(interval_simple)"
   ]
  },
  {
   "cell_type": "markdown",
   "metadata": {},
   "source": [
    "---"
   ]
  },
  {
   "cell_type": "markdown",
   "metadata": {},
   "source": [
    "> d. Write another functon `confint_welch(data, alpha)` which takes in the `data` of the two samples $X_1, \\cdots, X_n$ and $Y_1, \\cdots, Y_m$  from the output of `generate_data(n, m)`  along with a confidence level `alpha` between $0$ and $1$ and returns the $100 \\times (1-\\alpha)\\%$ confidence interval $\\textup{CI}(\\alpha, \\mu_X-\\mu_Y)$ for the difference in means of the two samples using the Welch-Satterthwaite approximation for the degrees of freedom.  Print the output from one such function call of `confint_welch(test_data, alpha=0.05)`.\n",
    "\n",
    "As a reminder, the Welch-Satterthwaite approximation for the degrees of freedom is given by\n",
    "\n",
    "$$\n",
    "k \\approx {\\left(\\frac{\\hat\\sigma_X^2}{n} + \\frac{\\hat\\sigma_Y^2}{m}\\right)^2} \\Bigg/  \\Bigg\\{\\frac{\\hat\\sigma_X^4}{n^2 \\cdot (n-1)} + \\frac{\\hat\\sigma_Y^4}{m^2 \\cdot (m-1)}\\Bigg\\}\n",
    "$$\n",
    "\n",
    "where $\\hat\\sigma_X^2$ and $\\hat\\sigma_Y^2$ are the sample variances of the two samples."
   ]
  },
  {
   "cell_type": "code",
   "execution_count": 16,
   "metadata": {},
   "outputs": [
    {
     "name": "stdout",
     "output_type": "stream",
     "text": [
      "(np.float64(-39.98354265580456), np.float64(30.402553605968812))\n"
     ]
    }
   ],
   "source": [
    "# write your function here > d. Write another functon `confint_welch(data, alpha)` which takes in the `data` of the two samples $X_1, \\cdots, X_n$ and $Y_1, \\cdots, Y_m$  from the output of `generate_data(n, m)`  along with a confidence level `alpha` between $0$ and $1$ and returns the $100 \\times (1-\\alpha)\\%$ confidence interval $\\textup{CI}(\\alpha, \\mu_X-\\mu_Y)$ for the difference in means of the two samples using the Welch-Satterthwaite approximation for the degrees of freedom.  Print the output from one such function call of `confint_welch(test_data, alpha=0.05)`.\n",
    "\n",
    "#As a reminder, the Welch-Satterthwaite approximation for the degrees of freedom is given by\n",
    "\n",
    "#$$\n",
    "#k \\approx {\\left(\\frac{\\hat\\sigma_X^2}{n} + \\frac{\\hat\\sigma_Y^2}{m}\\right)^2} \\Bigg/  \\Bigg\\{\\frac{\\hat\\sigma_X^4}{n^2 \\cdot (n-1)} + \\frac{\\hat\\sigma_Y^4}{m^2 \\cdot (m-1)}\\Bigg\\}\n",
    "#$$\n",
    "\n",
    "#where $\\hat\\sigma_X^2$ and $\\hat\\sigma_Y^2$ are the sample variances of the two samples.\n",
    "def confint_welch(data, alpha):\n",
    "    X, Y = data\n",
    "    n = len(X)\n",
    "    m = len(Y)\n",
    "    df = (np.var(X)/n + np.var(Y)/m)**2 / (np.var(X)**2/(n**2 * (n-1)) + np.var(Y)**2/(m**2 * (m-1)))\n",
    "    t = stats.t.ppf(1-alpha/2, df)\n",
    "    diff = np.mean(X) - np.mean(Y)\n",
    "    se = np.sqrt(np.var(X)/n + np.var(Y)/m)\n",
    "    return diff - t*se, diff + t*se\n",
    "\n",
    "interval_welch = confint_welch(test_data, alpha=0.02)\n",
    "print(interval_welch)"
   ]
  },
  {
   "cell_type": "markdown",
   "metadata": {},
   "source": [
    "---"
   ]
  },
  {
   "cell_type": "markdown",
   "metadata": {},
   "source": [
    "> e. Write a function `does_cover(interval, mu_x, mu_y)` which takes a confidence interval and outputs a binary value of 1 if the confidence interval contains the true difference in means `mu_x - mu_y` and 0 otherwise. "
   ]
  },
  {
   "cell_type": "code",
   "execution_count": 17,
   "metadata": {},
   "outputs": [
    {
     "name": "stdout",
     "output_type": "stream",
     "text": [
      "True\n",
      "True\n"
     ]
    }
   ],
   "source": [
    "# write your function here\n",
    "#> e. Write a function `does_cover(interval, mu_x, mu_y)` which takes a confidence interval and outputs a binary value of 1 if the confidence interval contains the true difference in means `mu_x - mu_y` and 0 otherwise. \n",
    "def does_cover(interval, mu_x, mu_y):\n",
    "    return interval[0] <= mu_x - mu_y <= interval[1]\n",
    "\n",
    "print(does_cover( interval_simple, mu_x, mu_y))\n",
    "print(does_cover( interval_welch,  mu_x, mu_y))"
   ]
  },
  {
   "cell_type": "markdown",
   "metadata": {},
   "source": [
    "---"
   ]
  },
  {
   "cell_type": "markdown",
   "metadata": {},
   "source": [
    "> f. For $n=5$, $m=6$ and `mu_x, mu_y, sigma_x, sigma_y` fixed from the earlier parts, generate data from $N=10,000$ different trials and store the data in an object called `trials`.\n",
    "\n",
    "> Using `does_cover` compute the **_coverage probability_** of the confidence intervals using `confint_simple` and `confint_welch` from parts **c** and **d** with any fixed value of `alpha` you desire across the trials. Print the coverage probabilities."
   ]
  },
  {
   "cell_type": "code",
   "execution_count": 18,
   "metadata": {},
   "outputs": [
    {
     "name": "stdout",
     "output_type": "stream",
     "text": [
      "0.9601\n",
      "0.9261\n",
      "0.9601 0.9261\n"
     ]
    },
    {
     "data": {
      "text/plain": [
       "Ellipsis"
      ]
     },
     "execution_count": 18,
     "metadata": {},
     "output_type": "execute_result"
    }
   ],
   "source": [
    "# f. For $n=5$, $m=6$ and `mu_x, mu_y, sigma_x, sigma_y` fixed from the earlier parts, generate data from $N=10,000$ different trials and store the data in an object called `trials`.\n",
    "\n",
    "#> Using `does_cover` compute the **_coverage probability_** of the confidence intervals using `confint_simple` and `confint_welch` from parts **c** and **d** with any fixed value of `alpha` you desire across the trials. Print the coverage probabilities.\n",
    "\n",
    "\n",
    "N = 10000\n",
    "n = 5\n",
    "m = 6\n",
    "\n",
    "trials = [generate_data(n, m) for _ in range(N)]\n",
    "\n",
    "does_cover_simple = [does_cover(confint_simple(data, alpha=0.05), mu_x, mu_y) for data in trials]\n",
    "does_cover_welch = [does_cover(confint_welch(data, alpha=0.05), mu_x, mu_y) for data in trials]\n",
    "print(np.mean(does_cover_simple))\n",
    "print(np.mean(does_cover_welch))\n",
    "print(np.mean(does_cover_simple), np.mean(does_cover_welch))\n",
    "... # write your code here"
   ]
  },
  {
   "cell_type": "markdown",
   "metadata": {},
   "source": [
    "---"
   ]
  },
  {
   "cell_type": "markdown",
   "metadata": {},
   "source": [
    "> g. Based on the analyes in part **f**, which method do you think is better for constructing confidence intervals for the difference in means of two samples? Explain why."
   ]
  },
  {
   "cell_type": "code",
   "execution_count": null,
   "metadata": {},
   "outputs": [],
   "source": [
    "..."
   ]
  },
  {
   "cell_type": "markdown",
   "metadata": {},
   "source": [
    "---\n",
    "---\n",
    "---"
   ]
  },
  {
   "cell_type": "markdown",
   "metadata": {},
   "source": [
    "# Question 2"
   ]
  },
  {
   "cell_type": "markdown",
   "metadata": {},
   "source": [
    "For this question you will use the class data from HW-0 to generate insights\n",
    "\n",
    "For this question, we will use the following dataset from the UCI Machine Learning Repository: [Heart Disease Data Set](https://archive.ics.uci.edu/ml/datasets/Heart+Disease). \n",
    "\n",
    "\n",
    "You can download the CSV file and then load the dataset, or, if you're using Python can use the `ucimlrepo` package in Python. \n",
    "\n",
    "<br></br>"
   ]
  },
  {
   "cell_type": "markdown",
   "metadata": {},
   "source": [
    "> a. Load the dataset and display the first 5 rows of the dataset."
   ]
  },
  {
   "cell_type": "code",
   "execution_count": null,
   "metadata": {},
   "outputs": [],
   "source": [
    "..."
   ]
  },
  {
   "cell_type": "markdown",
   "metadata": {},
   "source": [
    "---"
   ]
  },
  {
   "cell_type": "markdown",
   "metadata": {},
   "source": [
    "> b. Create a boxplot of the cholesterol level for each sex in the dataset. Color them differently for each sex. "
   ]
  },
  {
   "cell_type": "code",
   "execution_count": null,
   "metadata": {},
   "outputs": [],
   "source": [
    "..."
   ]
  },
  {
   "cell_type": "markdown",
   "metadata": {},
   "source": [
    "---"
   ]
  },
  {
   "cell_type": "markdown",
   "metadata": {},
   "source": [
    "> c. Read the description of the dataset and determine which of `MALE` and `FEMALE` the variable values `sex=1` vs `sex=0` correspond to."
   ]
  },
  {
   "cell_type": "code",
   "execution_count": null,
   "metadata": {},
   "outputs": [],
   "source": [
    "..."
   ]
  },
  {
   "cell_type": "markdown",
   "metadata": {},
   "source": [
    "---"
   ]
  },
  {
   "cell_type": "markdown",
   "metadata": {},
   "source": [
    "> d. Using your answer from part c, which of the two sexes has a higher median cholesterol level? Is there reason to believe that there is a difference in the cholesterol levels between the two sexes? Explain your answer"
   ]
  },
  {
   "cell_type": "code",
   "execution_count": null,
   "metadata": {},
   "outputs": [],
   "source": [
    "..."
   ]
  },
  {
   "cell_type": "markdown",
   "metadata": {},
   "source": [
    "---"
   ]
  },
  {
   "cell_type": "markdown",
   "metadata": {},
   "source": [
    "> e. What is an appropriate hypothesis test to determine if there is a difference in the cholesterol levels between Males and Females?"
   ]
  },
  {
   "cell_type": "code",
   "execution_count": null,
   "metadata": {},
   "outputs": [],
   "source": [
    "..."
   ]
  },
  {
   "cell_type": "markdown",
   "metadata": {},
   "source": [
    "---"
   ]
  },
  {
   "cell_type": "markdown",
   "metadata": {},
   "source": [
    "> f. Fill in the table below to summarize the key components of the hypothesis test you chose in part e."
   ]
  },
  {
   "cell_type": "markdown",
   "metadata": {},
   "source": [
    "| Anatomy of the hypothesis test |  Answer  |\n",
    "|:------------------------------:|:--------:|\n",
    "| Assumption                     | ?? |\n",
    "| Population parameter           | ?? |\n",
    "| Sample statistic               | ?? |\n",
    "| Test statistic                 | ?? |\n",
    "| Null hypothesis                | ?? |\n",
    "| Alternate hypothesis           | ?? |\n",
    "| Rejection region shape         | ?? |"
   ]
  },
  {
   "cell_type": "markdown",
   "metadata": {},
   "source": [
    "---"
   ]
  },
  {
   "cell_type": "markdown",
   "metadata": {},
   "source": [
    "> g. Perform the hypothesis test you chose in part e. Report the p-value. \n",
    "\n",
    "(_You can use a built-in function from any package of your choice, e.g., `statsmodels`, or you can write your own function_)"
   ]
  },
  {
   "cell_type": "code",
   "execution_count": null,
   "metadata": {},
   "outputs": [],
   "source": [
    "..."
   ]
  },
  {
   "cell_type": "markdown",
   "metadata": {},
   "source": [
    "---"
   ]
  },
  {
   "cell_type": "markdown",
   "metadata": {},
   "source": [
    "> h. State your conclusion at the $\\alpha=$ 1% significance level."
   ]
  },
  {
   "cell_type": "code",
   "execution_count": null,
   "metadata": {},
   "outputs": [],
   "source": [
    "..."
   ]
  },
  {
   "cell_type": "markdown",
   "metadata": {},
   "source": [
    "---"
   ]
  },
  {
   "cell_type": "markdown",
   "metadata": {},
   "source": [
    "> i. Compute the 99% confidence interval for the difference in the mean cholesterol levels between the females and males. \n",
    "\n",
    "(_You can use a built-in function from any package of your choice, e.g., `statsmodels`, or you can write your own function_)"
   ]
  },
  {
   "cell_type": "code",
   "execution_count": null,
   "metadata": {},
   "outputs": [],
   "source": [
    "..."
   ]
  },
  {
   "cell_type": "markdown",
   "metadata": {},
   "source": [
    "---\n",
    "---\n",
    "---"
   ]
  },
  {
   "cell_type": "markdown",
   "metadata": {},
   "source": [
    "# Question 3"
   ]
  },
  {
   "cell_type": "markdown",
   "metadata": {},
   "source": [
    "For this question, we are going to use the `adult` dataset available [here](https://archive.ics.uci.edu/ml/datasets/adult)."
   ]
  },
  {
   "cell_type": "markdown",
   "metadata": {},
   "source": [
    "> a. Load the dataset and display the first 5 rows of the dataset."
   ]
  },
  {
   "cell_type": "code",
   "execution_count": null,
   "metadata": {},
   "outputs": [],
   "source": [
    "..."
   ]
  },
  {
   "cell_type": "markdown",
   "metadata": {},
   "source": [
    "---"
   ]
  },
  {
   "cell_type": "markdown",
   "metadata": {},
   "source": [
    "> b. Filter the `df` DataFrame to only keep the rows where the `education` is in `['HS-Grad', 'Bachelors', 'Masters', 'Doctorate']` and display the first 5 rows of the filtered dataset. Rename this to be ``df_filtered`."
   ]
  },
  {
   "cell_type": "code",
   "execution_count": null,
   "metadata": {},
   "outputs": [],
   "source": [
    "df_filtered =  ..."
   ]
  },
  {
   "cell_type": "markdown",
   "metadata": {},
   "source": [
    "---"
   ]
  },
  {
   "cell_type": "markdown",
   "metadata": {},
   "source": [
    "> c. Create a table `O_table` of the observed counts for the `sex` (rows) vs. `education` (columns) in the `df_filtered` DataFrame."
   ]
  },
  {
   "cell_type": "code",
   "execution_count": null,
   "metadata": {},
   "outputs": [],
   "source": [
    "O_table = ..."
   ]
  },
  {
   "cell_type": "markdown",
   "metadata": {},
   "source": [
    "---"
   ]
  },
  {
   "cell_type": "markdown",
   "metadata": {},
   "source": [
    "> d. Create `p_table` as the table of observed proportions for the `education` for each `sex` using the `O_table` from part c."
   ]
  },
  {
   "cell_type": "code",
   "execution_count": null,
   "metadata": {},
   "outputs": [],
   "source": [
    "..."
   ]
  },
  {
   "cell_type": "markdown",
   "metadata": {},
   "source": [
    "---"
   ]
  },
  {
   "cell_type": "markdown",
   "metadata": {},
   "source": [
    "> e. Create a new row in the `p_table` that contains the cumulative proportions of the `education` for the entire dataset. "
   ]
  },
  {
   "cell_type": "code",
   "execution_count": null,
   "metadata": {},
   "outputs": [],
   "source": [
    "p_table[\"total\"] = ..."
   ]
  },
  {
   "cell_type": "markdown",
   "metadata": {},
   "source": [
    "---"
   ]
  },
  {
   "cell_type": "markdown",
   "metadata": {},
   "source": [
    "> f. What sort of a hypothesis test would you use to determine if there is a difference between the observed proportions of `education` for each `sex`?"
   ]
  },
  {
   "cell_type": "code",
   "execution_count": null,
   "metadata": {},
   "outputs": [],
   "source": [
    "..."
   ]
  },
  {
   "cell_type": "markdown",
   "metadata": {},
   "source": [
    "---"
   ]
  },
  {
   "cell_type": "markdown",
   "metadata": {},
   "source": [
    "> g. Fill in the following table describing the anatomy of the hypothesis test.\n",
    "\n",
    "Here $X_1$ and $X_2$ denote the Multinomial random variables representing the observed counts for the `education` categories corresponding to Females and Males, respectively."
   ]
  },
  {
   "cell_type": "markdown",
   "metadata": {},
   "source": [
    "| Anatomy of the hypothesis test |  Answer  |\n",
    "|:------------------------------:|:--------:|\n",
    "| Assumption                     | $$X_1 \\sim \\text{Mult}(p_{11}, p_{12}, p_{13}, p_{14}), \\quad\\text{and}\\quad X_2 \\sim \\text{Mult}(p_{21}, p_{22}, p_{23}, p_{24})$$ |\n",
    "| Population parameter           | ?? |\n",
    "| Sample statistic               | ?? |\n",
    "| Null hypothesis                | ?? |\n",
    "| Alternate hypothesis           | ?? |\n",
    "| Rejection region shape         | ?? |"
   ]
  },
  {
   "cell_type": "markdown",
   "metadata": {},
   "source": [
    "---"
   ]
  },
  {
   "cell_type": "markdown",
   "metadata": {},
   "source": [
    "> h. Write down the test statistic $T$ for the hypothesis test in parts f and g. What is its distribution under the null hypothesis?"
   ]
  },
  {
   "cell_type": "code",
   "execution_count": null,
   "metadata": {},
   "outputs": [],
   "source": [
    "..."
   ]
  },
  {
   "cell_type": "markdown",
   "metadata": {},
   "source": [
    "---"
   ]
  },
  {
   "cell_type": "markdown",
   "metadata": {},
   "source": [
    "> i. Compute the observed test statistic using the formula from part h and the data you created in part e."
   ]
  },
  {
   "cell_type": "code",
   "execution_count": null,
   "metadata": {},
   "outputs": [],
   "source": [
    "..."
   ]
  },
  {
   "cell_type": "markdown",
   "metadata": {},
   "source": [
    "---"
   ]
  },
  {
   "cell_type": "markdown",
   "metadata": {},
   "source": [
    "> j. Compute the p-value of associated with the observed test statistic from part i."
   ]
  },
  {
   "cell_type": "code",
   "execution_count": null,
   "metadata": {},
   "outputs": [],
   "source": [
    "..."
   ]
  },
  {
   "cell_type": "markdown",
   "metadata": {},
   "source": [
    "---"
   ]
  },
  {
   "cell_type": "markdown",
   "metadata": {},
   "source": [
    "> k. State your conclusion at the $\\alpha=$ 2.5% significance level."
   ]
  },
  {
   "cell_type": "code",
   "execution_count": null,
   "metadata": {},
   "outputs": [],
   "source": [
    "..."
   ]
  },
  {
   "cell_type": "markdown",
   "metadata": {},
   "source": [
    "---\n",
    "---\n",
    "---"
   ]
  }
 ],
 "metadata": {
  "kernelspec": {
   "display_name": "math189",
   "language": "python",
   "name": "python3"
  },
  "language_info": {
   "codemirror_mode": {
    "name": "ipython",
    "version": 3
   },
   "file_extension": ".py",
   "mimetype": "text/x-python",
   "name": "python",
   "nbconvert_exporter": "python",
   "pygments_lexer": "ipython3",
   "version": "3.12.3"
  }
 },
 "nbformat": 4,
 "nbformat_minor": 2
}
